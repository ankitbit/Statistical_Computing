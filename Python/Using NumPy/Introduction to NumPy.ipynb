{
 "cells": [
  {
   "cell_type": "markdown",
   "metadata": {},
   "source": [
    "### Understanding the Import\n",
    "In order to make the code more readable, we have to import the numpy as \"**np**\" as it is a sort of universal convention followed across the python community. \n",
    "\n",
    "Creating an array which consists of two elements [1,2,3,4] and [5,6,7,8]"
   ]
  },
  {
   "cell_type": "code",
   "execution_count": 74,
   "metadata": {
    "collapsed": false
   },
   "outputs": [
    {
     "name": "stdout",
     "output_type": "stream",
     "text": [
      "[[1 2 3 4]\n",
      " [5 6 7 8]]\n",
      "Dtype int64\n",
      "Data: <memory at 0x7fc4d30403a8>\n",
      "Shape: (2, 4)\n",
      "Strides: (32, 8)\n"
     ]
    }
   ],
   "source": [
    "import numpy as np\n",
    "\n",
    "my_array=np.array([[1,2,3,4],[5,6,7,8]], dtype=np.int64)\n",
    "print(my_array)\n",
    "\n",
    "print(\"Dtype\",my_array.dtype)\n",
    "print(\"Data:\",my_array.data)\n",
    "print(\"Shape:\",my_array.shape)\n",
    "print(\"Strides:\", my_array.strides)"
   ]
  },
  {
   "cell_type": "code",
   "execution_count": 75,
   "metadata": {
    "collapsed": false
   },
   "outputs": [
    {
     "name": "stdout",
     "output_type": "stream",
     "text": [
      "[[ 1.  1.]\n",
      " [ 1.  1.]\n",
      " [ 1.  1.]]\n"
     ]
    },
    {
     "data": {
      "text/plain": [
       "array([[ 1.,  1.],\n",
       "       [ 1.,  1.],\n",
       "       [ 1.,  1.]])"
      ]
     },
     "execution_count": 75,
     "metadata": {},
     "output_type": "execute_result"
    }
   ],
   "source": [
    "print(np.ones((3,2)))\n",
    "\n",
    "np.empty((3,2))"
   ]
  },
  {
   "cell_type": "code",
   "execution_count": 76,
   "metadata": {
    "collapsed": false
   },
   "outputs": [
    {
     "name": "stdout",
     "output_type": "stream",
     "text": [
      "[[ 1.  0.]\n",
      " [ 0.  1.]]\n",
      "\n",
      " \t\t\t\t\t 3x3 Identity Matrix: \n",
      " [[ 1.  0.  0.]\n",
      " [ 0.  1.  0.]\n",
      " [ 0.  0.  1.]]\n"
     ]
    }
   ],
   "source": [
    "#Creating identity matrices\n",
    "print(np.eye(2,2))\n",
    "\n",
    "#Alternatively, using identity()\n",
    "three_by_three_identity=np.identity(3)\n",
    "print(\"\\n \\t\\t\\t\\t\\t 3x3 Identity Matrix: \\n\",three_by_three_identity)"
   ]
  },
  {
   "cell_type": "code",
   "execution_count": 77,
   "metadata": {
    "collapsed": false
   },
   "outputs": [
    {
     "name": "stdout",
     "output_type": "stream",
     "text": [
      "Size: 9\n",
      "Dimensions: 2\n",
      "\n",
      "Flags: \n",
      "   C_CONTIGUOUS : True\n",
      "  F_CONTIGUOUS : False\n",
      "  OWNDATA : True\n",
      "  WRITEABLE : True\n",
      "  ALIGNED : True\n",
      "  UPDATEIFCOPY : False\n",
      "\n",
      "Number fo Bytes:  72 \n",
      "\n",
      "Itemsize: 8\n"
     ]
    }
   ],
   "source": [
    "#Metrics for matrices\n",
    "print(\"Size:\",three_by_three_identity.size)          #using size()\n",
    "print(\"Dimensions:\",three_by_three_identity.ndim)    #using ndim()\n",
    "print(\"\\nFlags: \\n\",three_by_three_identity.flags)   #using flags()\n",
    "print(\"\\nNumber fo Bytes: \",three_by_three_identity.nbytes, \"\\n\") #using nbytes()\n",
    "print(\"Itemsize:\",three_by_three_identity.itemsize)  #using itemsize()"
   ]
  },
  {
   "cell_type": "markdown",
   "metadata": {},
   "source": [
    "### Tweaking the Array\n",
    "We can compute the **length()**, change the data type and perform many such similarily required operations in order to tweak the numpy array."
   ]
  },
  {
   "cell_type": "code",
   "execution_count": 84,
   "metadata": {
    "collapsed": false
   },
   "outputs": [
    {
     "name": "stdout",
     "output_type": "stream",
     "text": [
      "\n",
      "Float array:\n",
      "[[ 1.  0.  0.]\n",
      " [ 0.  1.  0.]\n",
      " [ 0.  0.  1.]]\n",
      "\n",
      " String array:\n",
      "[['1.0' '0.0' '0.0']\n",
      " ['0.0' '1.0' '0.0']\n",
      " ['0.0' '0.0' '1.0']]\n",
      "\n",
      "Integer array:\n",
      "[[1 0 0]\n",
      " [0 1 0]\n",
      " [0 0 1]]\n",
      "\n",
      "Logical array:\n",
      "[[ True False False]\n",
      " [False  True False]\n",
      " [False False  True]]\n"
     ]
    }
   ],
   "source": [
    "#Chainging datatype of array to float\n",
    "print(\"\\nFloat array:\")\n",
    "print(three_by_three_identity.astype(float))   #changing to float\n",
    "print(\"\\n String array:\")\n",
    "print(three_by_three_identity.astype(str))      #changing to string\n",
    "print(\"\\nInteger array:\")\n",
    "print(three_by_three_identity.astype(int))      #changing to int\n",
    "print(\"\\nLogical array:\")\n",
    "print(three_by_three_identity.astype(bool))    #Interestingly, we can also change the array elements to logical\n",
    "\n",
    "#The logical array will have all elements as TRUE if the value os non zero and FALSE if the value is zero"
   ]
  },
  {
   "cell_type": "markdown",
   "metadata": {},
   "source": [
    "### Mathematical Operations\n",
    "* Adding two matrices"
   ]
  },
  {
   "cell_type": "code",
   "execution_count": 114,
   "metadata": {
    "collapsed": false
   },
   "outputs": [
    {
     "name": "stdout",
     "output_type": "stream",
     "text": [
      "[[ 1.  0.]\n",
      " [ 0.  1.]]\n",
      "\n",
      "Matrix 2:\n",
      " [[1 2]\n",
      " [3 4]]\n",
      "[[ 2.  2.]\n",
      " [ 3.  5.]]\n",
      "<class 'numpy.ndarray'>\n",
      "\n",
      "Computing the remainder of mat2 when divided by mat1 elementwise: \n",
      "\n",
      "[[ 0.  0.]\n",
      " [ 0.  1.]]\n"
     ]
    }
   ],
   "source": [
    "mat1=np.eye(2);\n",
    "print(mat1)\n",
    "mat2=np.array([[1,2],[3,4]])\n",
    "print(\"\\nMatrix 2:\\n\", mat2)\n",
    "mat3=mat1+mat2;\n",
    "print(mat3)\n",
    "print(type(mat1))\n",
    "\n",
    "\n",
    "#Computing remainder\n",
    "print(\"\\nComputing the remainder of mat2 when divided by mat1 elementwise: \\n\")\n",
    "print(np.remainder(mat1,mat2)) #this fucntion computes the remainder (or, modulus) through an elementwise operation\n"
   ]
  },
  {
   "cell_type": "code",
   "execution_count": 117,
   "metadata": {
    "collapsed": false
   },
   "outputs": [
    {
     "name": "stdout",
     "output_type": "stream",
     "text": [
      "[[ 2.  2.]\n",
      " [ 3.  5.]]\n",
      "\n",
      " [[ 2.  2.]\n",
      " [ 3.  5.]]\n"
     ]
    }
   ],
   "source": [
    "print(np.add(mat1, mat2)) #Adding the matrices mat1 and mat2 through elementwise operations\n",
    "#Alternatively, we can store the result and then print in case the result matrix is required for further use\n",
    "mat3=np.add(mat1, mat2); \n",
    "print(\"\\n\",mat3)\n"
   ]
  },
  {
   "cell_type": "code",
   "execution_count": 122,
   "metadata": {
    "collapsed": false
   },
   "outputs": [
    {
     "name": "stdout",
     "output_type": "stream",
     "text": [
      "Minimum value in Matrix 2: 1\n",
      "Maximum value in Matrix 2: 4\n"
     ]
    }
   ],
   "source": [
    "print(\"Minimum value in Matrix 2:\",mat2.min())\n",
    "print(\"Maximum value in Matrix 2:\",mat2.max())"
   ]
  },
  {
   "cell_type": "code",
   "execution_count": 132,
   "metadata": {
    "collapsed": false
   },
   "outputs": [
    {
     "name": "stdout",
     "output_type": "stream",
     "text": [
      "Mean value in Matrix 1: 0.5\n",
      "Mean value in Matrix 1: 1.0\n",
      "Mean value in Matrix 2: 2.0\n"
     ]
    }
   ],
   "source": [
    "# Computing the mean of all values in a matrix\n",
    "print(\"Mean value in Matrix 1:\", mat1.mean())\n",
    "\n",
    "print(\"Mean value in Matrix 1:\", mat1[1:,1].mean())\n",
    "print(\"Mean value in Matrix 2:\", mat2[0:,0].mean()) \n"
   ]
  },
  {
   "cell_type": "markdown",
   "metadata": {},
   "source": [
    "Observe that, we can compute the mean value of any of the parts of a given matrix by subsetting it suitably. For example, If we are interested in finding the mean value of first row of Matrix 2, which has the elements '1' and '2', then we must subset the Matrix 2 in such a way that the function **mean( )** is applied only on that subset of the Matrix 2. In our case, we have the mean of the elements '1' and '2' equal to 1.5 . Let us verify it computationally.\n",
    "\n",
    "**NOTE:** The use of colon(:) operator is made for **selecting all** in a sequence of values. For e.g. if we write that '1:' then it can be interpreted as \"select all values in that particular sequence starting from 1 onwards\""
   ]
  },
  {
   "cell_type": "code",
   "execution_count": 152,
   "metadata": {
    "collapsed": false
   },
   "outputs": [
    {
     "name": "stdout",
     "output_type": "stream",
     "text": [
      "Elements in first row of Matrix 2: [1 2]\n",
      "Mean of first row in Matrix 2: 1.5\n",
      "Elements in second column of Matrix 2: [2 4]\n",
      "Mean of second column in Matrix 2: 3.0\n"
     ]
    }
   ],
   "source": [
    "#print(\"Mean value in Matrix 2:\", mat2[0:,].mean()) \n",
    "print(\"Elements in first row of Matrix 2:\", mat2[0,0:])    #It is like choosing all columns in the first row\n",
    "print(\"Mean of first row in Matrix 2:\", mat2[0,0:].mean()) \n",
    "print(\"Elements in second column of Matrix 2:\", mat2[0:,1]) #It is like choosing all rows in second column\n",
    "print(\"Mean of second column in Matrix 2:\", mat2[0:,1].mean()) \n"
   ]
  },
  {
   "cell_type": "markdown",
   "metadata": {},
   "source": [
    "**NOTE**: An important fact worth attention is that the index of elements in an numpy array begins from '0' and not '1' which is quite commonly seen in matrices in other programming languages. "
   ]
  },
  {
   "cell_type": "markdown",
   "metadata": {},
   "source": [
    "### Comparison Operations\n",
    "We can also perform operations to compare the each of the elements of two arrays. The following code achieves this objective-"
   ]
  },
  {
   "cell_type": "code",
   "execution_count": 179,
   "metadata": {
    "collapsed": false
   },
   "outputs": [
    {
     "name": "stdout",
     "output_type": "stream",
     "text": [
      "[[ 0.  0.  0.]\n",
      " [ 0.  0.  0.]\n",
      " [ 0.  0.  0.]]\n",
      "[[ 0.34699457  0.96379954  0.24088279]\n",
      " [ 0.47434466  0.66795359  0.8128835 ]\n",
      " [ 0.16707271  0.93392289  0.67906784]]\n",
      "False\n",
      "True\n"
     ]
    }
   ],
   "source": [
    "mat1=np.zeros((3,3));\n",
    "print(mat1);\n",
    "mat2=np.random.random((3,3));\n",
    "print(mat2)\n",
    "\n",
    "#finally, add the two together in and store the result in a third matrix as \"mat3\"\n",
    "mat3=mat1+mat2;\n",
    "print(np.array_equal(mat1, mat3))\n",
    "print(np.array_equal(mat2, mat3))"
   ]
  }
 ],
 "metadata": {
  "anaconda-cloud": {},
  "kernelspec": {
   "display_name": "Python [conda root]",
   "language": "python",
   "name": "conda-root-py"
  },
  "language_info": {
   "codemirror_mode": {
    "name": "ipython",
    "version": 3
   },
   "file_extension": ".py",
   "mimetype": "text/x-python",
   "name": "python",
   "nbconvert_exporter": "python",
   "pygments_lexer": "ipython3",
   "version": "3.5.2"
  }
 },
 "nbformat": 4,
 "nbformat_minor": 1
}
